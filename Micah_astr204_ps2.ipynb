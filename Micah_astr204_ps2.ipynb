{
 "cells": [
  {
   "cell_type": "code",
   "execution_count": 1,
   "id": "4f619814",
   "metadata": {},
   "outputs": [],
   "source": [
    "import numpy as np\n",
    "import matplotlib.pyplot as plt"
   ]
  },
  {
   "cell_type": "markdown",
   "id": "8bd33fad",
   "metadata": {},
   "source": [
    "## (a)"
   ]
  },
  {
   "cell_type": "code",
   "execution_count": 11,
   "id": "959ce89d",
   "metadata": {},
   "outputs": [],
   "source": [
    "n_nums = 100000  # the number of random numbers that we want\n",
    "\n",
    "# define an array to hold the random numbers with the distribution that we want\n",
    "kept_nums = np.zeros(n_nums)  \n",
    "\n",
    "# we want numbers between 0 and 10, so define the min and max\n",
    "nmin = 0  \n",
    "nmax = 10  \n",
    "\n",
    "for i in range(n_nums):  # we'll do the below for each random number that we want to pick\n",
    "    num = -1\n",
    "    while(num == -1):  # keep picking random numbers until we get one we want to keep\n",
    "        # np.random.random() gives a uniformly-distributed random number in the half-open interval [0,1)\n",
    "        # first adjust this to the range of numbers that we want\n",
    "        rand_num = np.random.random()*(nmax-nmin) + nmin  # this gives a random number uniformly distributed between nmin and nmax\n",
    "\n",
    "        # we don't want a uniform distribution, so we'll keep our number with a probability proportional\n",
    "        # to the probability distribution that we want\n",
    "        # in this case, we want a probability f(x) proportional to x^2\n",
    "        # normalize it so that the number with the maximum probability (in this case 10) has a probability of 1\n",
    "        # f(x) = (x/10)^2 = (rand_num/nmax)^2\n",
    "        \n",
    "        # (note that if you make the maximum proability greater than 1, this code won't distinguish\n",
    "        # between numbers that have different probabilities > 1 and you won't get the right distribution;\n",
    "        # if you make the maximum probability less than 1, it will work but it will be inefficient since\n",
    "        # it will throw away more numbers than it needs to)\n",
    "         \n",
    "        pkeep = (rand_num/nmax)**2  # the probability that we want to keep the number we drew \n",
    "        \n",
    "        # pick a uniformly distributed random number between 0 and 1 and if it's less than pkeep, keep the number\n",
    "        # this means that the number had a probability pkeep of being kept\n",
    "        if np.random.random() <= pkeep:\n",
    "            num = rand_num\n",
    "    \n",
    "    # add our number to the list of kept numbers\n",
    "    kept_nums[i] = num"
   ]
  },
  {
   "cell_type": "code",
   "execution_count": 12,
   "id": "19be14e7",
   "metadata": {
    "scrolled": true
   },
   "outputs": [
    {
     "data": {
      "image/png": "[encoded data removed]",
      "text/plain": [
       "<Figure size 432x288 with 1 Axes>"
      ]
     },
     "metadata": {
      "needs_background": "light"
     },
     "output_type": "display_data"
    }
   ],
   "source": [
    "x = np.linspace(nmin,nmax,100) # 100 evenly spaced numbers between 0 and 10\n",
    "norm_max = np.max(np.histogram(kept_nums, bins=30)[0]) # get the maximum number in a histogram bin\n",
    "fx = norm_max*(x/nmax)**2  # the probability distribution proportional to x^2\n",
    "\n",
    "plt.hist(kept_nums, bins=30)\n",
    "plt.plot(x,fx,'orange',linewidth=3)\n",
    "plt.show()"
   ]
  },
  {
   "cell_type": "code",
   "execution_count": 18,
   "id": "cf46b26e",
   "metadata": {},
   "outputs": [],
   "source": [
    "n_nums = 100000  # the number of random numbers that we want\n",
    "\n",
    "# define an array to hold the random numbers with the distribution that we want\n",
    "kept_nums = np.zeros(n_nums)  \n",
    "\n",
    "# we want numbers between 0 and 10, so define the min and max\n",
    "nmin = 0  \n",
    "nmax = 7  \n",
    "\n",
    "for i in range(n_nums):  # we'll do the below for each random number that we want to pick\n",
    "    num = -1\n",
    "    while(num == -1):  # keep picking random numbers until we get one we want to keep\n",
    "        # np.random.random() gives a uniformly-distributed random number in the half-open interval [0,1)\n",
    "        # first adjust this to the range of numbers that we want\n",
    "        rand_num = np.random.random()*(nmax-nmin) + nmin  # this gives a random number uniformly distributed between nmin and nmax\n",
    "\n",
    "        # we don't want a uniform distribution, so we'll keep our number with a probability proportional\n",
    "        # to the probability distribution that we want\n",
    "        # in this case, we want a probability f(x) proportional to np.exp(-np.abs(z)/H)\n",
    "        # normalize it so that the number with the maximum probability (in this case 10) has a probability of 1\n",
    "        # f(x) = (x/10)^2 = (rand_num/nmax)^2\n",
    "        \n",
    "        # (note that if you make the maximum proability greater than 1, this code won't distinguish\n",
    "        # between numbers that have different probabilities > 1 and you won't get the right distribution;\n",
    "        # if you make the maximum probability less than 1, it will work but it will be inefficient since\n",
    "        # it will throw away more numbers than it needs to)\n",
    "         \n",
    "        pkeep = np.exp(-(np.abs(rand_num))/1.0) # the probability that we want to keep the number we drew \n",
    "        \n",
    "        # pick a uniformly distributed random number between 0 and 1 and if it's less than pkeep, keep the number\n",
    "        # this means that the number had a probability pkeep of being kept\n",
    "        if np.random.random() <= pkeep:\n",
    "            num = rand_num\n",
    "    \n",
    "    # add our number to the list of kept numbers\n",
    "    kept_nums[i] = num"
   ]
  },
  {
   "cell_type": "code",
   "execution_count": 31,
   "id": "fdb31eff",
   "metadata": {},
   "outputs": [
    {
     "data": {
      "image/png": "[encoded data removed]",
      "text/plain": [
       "<Figure size 432x288 with 1 Axes>"
      ]
     },
     "metadata": {
      "needs_background": "light"
     },
     "output_type": "display_data"
    }
   ],
   "source": [
    "x = np.linspace(nmin,nmax,100) # 100 evenly spaced numbers between 0 and 10\n",
    "norm_max = np.max(np.histogram(kept_nums, bins=30)[0]) # get the maximum number in a histogram bin\n",
    "\n",
    "plt.hist(kept_nums, bins=30)\n",
    "plt.xlabel('Heights')\n",
    "plt.ylabel('Counts')\n",
    "plt.show()"
   ]
  },
  {
   "cell_type": "markdown",
   "id": "0236996c",
   "metadata": {},
   "source": [
    "## (b)"
   ]
  },
  {
   "cell_type": "code",
   "execution_count": 22,
   "id": "7b88bb52",
   "metadata": {},
   "outputs": [],
   "source": [
    "#second set of particles, photons entering atmosphere from the top\n",
    "nphotons = 20000  # photon number\n",
    "b = 0.008\n",
    "sigma = np.pi*b**2.0  # cross-section \n",
    "\n",
    "# generate random x and y values for the photons\n",
    "xphotons = np.random.random(nphotons)*1.0\n",
    "yphotons = np.random.random(nphotons)*1.0\n",
    "\n",
    "# initialize array to hold the height where the photon first interacts with an atmosphere particle\n",
    "height_coll = np.zeros(nphotons)"
   ]
  },
  {
   "cell_type": "code",
   "execution_count": 23,
   "id": "84bd04b0",
   "metadata": {},
   "outputs": [],
   "source": [
    "xparts = np.random.random(n_nums)*1.0 \n",
    "yparts = np.random.random(n_nums)*1.0"
   ]
  },
  {
   "cell_type": "code",
   "execution_count": 27,
   "id": "49d796da",
   "metadata": {},
   "outputs": [],
   "source": [
    "for j in range(nphotons):\n",
    "    \n",
    "    # The particles in the photon's path are those with projected distances less than b in the xy-plane.\n",
    "    particles_in_path = np.where(np.sqrt((xparts-xphotons[j])**2 + (yparts-yphotons[j])**2) < b)\n",
    "    \n",
    "    if len(particles_in_path[0]) == 0:  # no collisions, less than b in xy-plane\n",
    "        height_coll[j] = 0\n",
    "        \n",
    "    else:\n",
    "        # this finds the maximum of our height array\n",
    "        height_coll[j] = np.max(kept_nums[particles_in_path[0]]) "
   ]
  },
  {
   "cell_type": "code",
   "execution_count": 40,
   "id": "a8069bb5",
   "metadata": {},
   "outputs": [
    {
     "data": {
      "image/png": "[encoded data removed]",
      "text/plain": [
       "<Figure size 432x288 with 1 Axes>"
      ]
     },
     "metadata": {
      "needs_background": "light"
     },
     "output_type": "display_data"
    }
   ],
   "source": [
    "plt.hist(height_coll, bins=30)\n",
    "plt.axvline(3.15, 0, 1700, c='red')\n",
    "plt.axhline(1600, 0, 7, c='red')\n",
    "plt.xlabel('Collisional Heights')\n",
    "plt.ylabel('Counts')\n",
    "plt.show()"
   ]
  },
  {
   "cell_type": "markdown",
   "id": "c4dc1334",
   "metadata": {},
   "source": [
    "The maximum occurs around a collision height of 3."
   ]
  },
  {
   "cell_type": "markdown",
   "id": "e35e7b52",
   "metadata": {},
   "source": [
    "This is where the most amount of photons get absorbed into the atmosphere -- the height at which the most amount of collisions occur."
   ]
  },
  {
   "cell_type": "markdown",
   "id": "03f2c46c",
   "metadata": {},
   "source": [
    "$$ \\tau = n(z) \\sigma H $$"
   ]
  },
  {
   "cell_type": "markdown",
   "id": "c2afb7ac",
   "metadata": {},
   "source": [
    "## (c)"
   ]
  },
  {
   "cell_type": "markdown",
   "id": "b03fce28",
   "metadata": {},
   "source": [
    "Estimate the number density of particles at the surface\n",
    "in your simulation by counting the number of particles between the surface and the first\n",
    "scale height and dividing by the volume of this region."
   ]
  },
  {
   "cell_type": "markdown",
   "id": "bcf9adbc",
   "metadata": {},
   "source": [
    "PS2 resource: large optical depths $\\propto$ to higher rate of obscuration. Optical depth can therefore be thought of as the *opacity* of a medium."
   ]
  },
  {
   "cell_type": "markdown",
   "id": "c191d53a",
   "metadata": {},
   "source": [
    "https://en.wikipedia.org/wiki/Optical_depth_(astrophysics)"
   ]
  },
  {
   "cell_type": "code",
   "execution_count": 43,
   "id": "81e3be6a",
   "metadata": {},
   "outputs": [],
   "source": [
    "n0 = len(np.where(kept_nums < 1.0)[0])/1.0/1.0/1.0"
   ]
  },
  {
   "cell_type": "code",
   "execution_count": 44,
   "id": "c6a1cbef",
   "metadata": {},
   "outputs": [
    {
     "data": {
      "text/plain": [
       "63436.0"
      ]
     },
     "execution_count": 44,
     "metadata": {},
     "output_type": "execute_result"
    }
   ],
   "source": [
    "n0"
   ]
  },
  {
   "cell_type": "code",
   "execution_count": 47,
   "id": "67ad4373",
   "metadata": {},
   "outputs": [],
   "source": [
    "def opt_depth(z, H):\n",
    "    n = n0*np.exp(-z/H)\n",
    "    tau = n*sigma*H\n",
    "    print(tau)"
   ]
  },
  {
   "cell_type": "code",
   "execution_count": 49,
   "id": "31b1faf3",
   "metadata": {},
   "outputs": [
    {
     "name": "stdout",
     "output_type": "stream",
     "text": [
      "0.6350123787806419\n"
     ]
    }
   ],
   "source": [
    "#Optical depth where max photons are absorbed\n",
    "opt_depth(3.0, 1.0) #intuition for this number is that it's the opacity of our atmosphere"
   ]
  },
  {
   "cell_type": "code",
   "execution_count": 50,
   "id": "45d770a7",
   "metadata": {},
   "outputs": [
    {
     "name": "stdout",
     "output_type": "stream",
     "text": [
      "1.726142610085971\n",
      "0.03161540471679173\n"
     ]
    },
    {
     "data": {
      "text/plain": [
       "(None, None)"
      ]
     },
     "execution_count": 50,
     "metadata": {},
     "output_type": "execute_result"
    }
   ],
   "source": [
    "#optical depth where not many photons are being absorbed\n",
    "opt_depth(2.0, 1.0), opt_depth(6.0, 1.0)"
   ]
  },
  {
   "cell_type": "code",
   "execution_count": null,
   "id": "643b6fe4",
   "metadata": {},
   "outputs": [],
   "source": []
  }
 ],
 "metadata": {
  "kernelspec": {
   "display_name": "Python 3 (ipykernel)",
   "language": "python",
   "name": "python3"
  },
  "language_info": {
   "codemirror_mode": {
    "name": "ipython",
    "version": 3
   },
   "file_extension": ".py",
   "mimetype": "text/x-python",
   "name": "python",
   "nbconvert_exporter": "python",
   "pygments_lexer": "ipython3",
   "version": "3.9.12"
  }
 },
 "nbformat": 4,
 "nbformat_minor": 5
}
