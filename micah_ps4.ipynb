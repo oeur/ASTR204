{
 "cells": [
  {
   "cell_type": "code",
   "execution_count": 17,
   "id": "674ee83f-293a-4e31-be88-40dfe5473a05",
   "metadata": {},
   "outputs": [],
   "source": [
    "import scipy.optimize\n",
    "import numpy as np\n",
    "import matplotlib as mpl\n",
    "import matplotlib.pyplot as plt\n",
    "from astropy import constants as c\n",
    "from astropy import units as u"
   ]
  },
  {
   "cell_type": "code",
   "execution_count": 18,
   "id": "07f9b3f1-08fc-4ed3-baaa-df335a71a7a2",
   "metadata": {},
   "outputs": [],
   "source": [
    "# constants in cgs units\n",
    "G = c.G.cgs.value\n",
    "k = c.k_B.cgs.value\n",
    "mH = c.m_p.cgs.value\n",
    "\n",
    "yr = u.yr.to(u.s)\n",
    "day = u.day.to(u.s)\n",
    "hour = u.hour.to(u.s)\n",
    "\n",
    "Rprot = 6.4e8 # cm\n",
    "Mprot = 6e27 # g\n",
    "T = 1e3 # K\n",
    "mu = mH\n",
    "\n",
    "cs = np.sqrt(k*T/mu)\n",
    "H = Rprot**2*cs**2/G/Mprot\n",
    "\n",
    "rs = G*Mprot/(2.*cs**2) #r_sonic"
   ]
  },
  {
   "cell_type": "code",
   "execution_count": 41,
   "id": "04dac56e-86bf-4801-9e14-31d34f2a3087",
   "metadata": {},
   "outputs": [],
   "source": [
    "def fun(v, r, cs, rs):\n",
    "    f = v * np.exp(-v**2/(2*cs**2)) - cs * (r/rs)**(-2) * np.exp((3/2)-(2*rs)/r)\n",
    "    return f"
   ]
  },
  {
   "cell_type": "code",
   "execution_count": 42,
   "id": "4af9e01f-eda3-41e2-b349-b21b23d2b3a8",
   "metadata": {},
   "outputs": [],
   "source": [
    "r_arr = np.linspace(Rprot,5*Rprot, 100)"
   ]
  },
  {
   "cell_type": "code",
   "execution_count": 43,
   "id": "3f0c4380-6ba5-4d0d-a132-0c82f52d0bfa",
   "metadata": {},
   "outputs": [],
   "source": [
    "rho0 = 1e-11  # g/cm^3; initial condition density at r = Rp\n",
    "rho_hydrostat = rho0*np.exp((Rprot/H)*(Rprot/r_arr-1.0))  # hydrostatic atmosphere"
   ]
  },
  {
   "cell_type": "code",
   "execution_count": 44,
   "id": "053d5956-7634-4de7-8b2b-85f91750196f",
   "metadata": {},
   "outputs": [],
   "source": [
    "init = np.zeros(100)\n",
    "init[r_arr > rs] = 2.0*cs"
   ]
  },
  {
   "cell_type": "code",
   "execution_count": 45,
   "id": "02026fae-6ec8-4274-bd6a-4e3fe4f97339",
   "metadata": {},
   "outputs": [],
   "source": [
    "#This is the wind velocity that includes the density as rho0 at the base of the wind and that passes through \n",
    "#the sonic point (which is included using r_son)"
   ]
  },
  {
   "cell_type": "code",
   "execution_count": 46,
   "id": "29fcaf14-e188-4b00-a56b-da185886f295",
   "metadata": {},
   "outputs": [
    {
     "name": "stdout",
     "output_type": "stream",
     "text": [
      "[  9445.41399023  11716.36053881  14261.46327003  17071.92279957\n",
      "  20135.473049    23437.18690406  26960.23661581  30686.57840406\n",
      "  34597.54436474  38674.33550716  42898.41756921  47251.82648331\n",
      "  51717.39343926  56278.900906    60921.18119528  65630.16857888\n",
      "  70392.9149273   75197.57756106  80033.38666654  84890.59833456\n",
      "  89760.43809798  94635.03880574  99507.3757858  104371.20151306\n",
      " 109220.98139949 114051.83184521 118859.46131338 123640.11490293\n",
      " 128390.52267322 133107.85181299 137789.66262734 142433.86823469\n",
      " 147038.69780919 151602.66316941 156124.52849404 160603.28293696\n",
      " 165038.1159134  169428.39483451 173773.64507646 178073.53198203\n",
      " 182327.84470538 186536.48172448 190699.43785946 194816.79264842\n",
      " 198888.69994541 202915.37861739 206897.10422869 210834.20161189\n",
      " 214727.03823413 218576.01827666 222381.57735387 226144.17780534\n",
      " 229864.3045013  233542.46110795 237179.16676477 240774.95313071\n",
      " 244330.36176064 247845.94177771 251322.24781043 254759.83816701\n",
      " 258159.27322182 261521.11399199 264845.92088409 268134.25259303\n",
      " 271386.66513721 274603.71101462 277785.93847322 280933.89086649\n",
      " 284048.10611219 287129.11622322 290177.44687333 293193.61712746\n",
      " 296178.13908473 299131.51768392 302054.25050144 304946.82760224\n",
      " 307809.73142295 310643.43668646 313448.41034405 316225.11154185\n",
      " 318973.99160879 321695.49406368 324390.05463884 327058.10131863\n",
      " 329700.05439065 332316.32650828 334907.32276294 337473.44076477\n",
      " 340015.07073055 342532.59557778 345026.39102406 347496.82569081\n",
      " 349944.2612106  352369.05233745 354771.54705949 357152.08671338\n",
      " 359511.00610008 361848.63360151 364165.29129774 366461.29508432]\n"
     ]
    }
   ],
   "source": [
    "fun_soln = scipy.optimize.fsolve(fun, init, args=(r_arr,cs,rs))\n",
    "print (fun_soln)"
   ]
  },
  {
   "cell_type": "code",
   "execution_count": 47,
   "id": "9c755870-f3bb-4610-b8e0-db4f9d4fa9c6",
   "metadata": {},
   "outputs": [],
   "source": [
    "# use mass conservation to compute the density\n",
    "Mdot = 4.*np.pi*Rprot**2*rho0*fun_soln[0]\n",
    "density = Mdot/(4.*np.pi*r_arr**2*fun_soln) #fun_soln is wind velocity"
   ]
  },
  {
   "cell_type": "code",
   "execution_count": 48,
   "id": "8b3cc776-eec1-425d-a7e2-96aae66a9244",
   "metadata": {},
   "outputs": [],
   "source": [
    "def velocity_derivs(r, v, cs, Mp, G):\n",
    "    rs = G*Mp/(2.*cs**2)\n",
    "    if r == rs:\n",
    "        dv_dr = 2.0*cs**3/G/Mp\n",
    "    else:\n",
    "        dv_dr = v*(2.*cs**2/r - G*Mp/r**2)/(v**2-cs**2)\n",
    "    return dv_dr\n",
    "#this cell just rearranges eq 2 from the homework to isolate the velocity derivative wrt r"
   ]
  },
  {
   "cell_type": "code",
   "execution_count": 49,
   "id": "830197d3-c0f2-4bd9-b1e1-f673372cf821",
   "metadata": {},
   "outputs": [],
   "source": [
    "from scipy.integrate import solve_ivp"
   ]
  },
  {
   "cell_type": "code",
   "execution_count": 50,
   "id": "7dcf5712-92bc-44f4-a997-633e991b672a",
   "metadata": {},
   "outputs": [
    {
     "name": "stdout",
     "output_type": "stream",
     "text": [
      "6.4e+08 3200000000.0\n"
     ]
    }
   ],
   "source": [
    "print(r_arr[0],r_arr[-1])"
   ]
  },
  {
   "cell_type": "code",
   "execution_count": 51,
   "id": "67bcbcbc-3ce7-47d0-9ca7-74938a282bf7",
   "metadata": {},
   "outputs": [
    {
     "data": {
      "text/plain": [
       "100"
      ]
     },
     "execution_count": 51,
     "metadata": {},
     "output_type": "execute_result"
    }
   ],
   "source": [
    "len(r_arr)"
   ]
  },
  {
   "cell_type": "code",
   "execution_count": 52,
   "id": "aabbdb8b-e3a1-44a9-abeb-582daf1e79d1",
   "metadata": {},
   "outputs": [],
   "source": [
    "v_base = 0.025*cs # a fraction of the base velocity from the previous soln\n",
    "smaller_wind_sol = solve_ivp(velocity_derivs, [r_arr[0],r_arr[-1]], [v_base], t_eval=r_arr, args=(cs,Mprot,G,)) # this cell performs\n",
    "#the integration, we have included interval of integration and initial conditions\n",
    "v_breeze = (smaller_wind_sol['y'])[0]\n",
    "\n",
    "# get density from Mdot\n",
    "Mdot = 4.*np.pi*Rprot**2*rho0*v_breeze[0]\n",
    "rho_breeze = Mdot/(4.*np.pi*r_arr**2*v_breeze) "
   ]
  },
  {
   "cell_type": "code",
   "execution_count": 53,
   "id": "20ac8d66-c2e9-4b04-b06c-46dc2665ce6a",
   "metadata": {},
   "outputs": [
    {
     "data": {
      "text/plain": [
       "[<matplotlib.lines.Line2D at 0x2b6cb0ac8400>]"
      ]
     },
     "execution_count": 53,
     "metadata": {},
     "output_type": "execute_result"
    },
    {
     "data": {
      "image/png": "[encoded data removed]",
      "text/plain": [
       "<Figure size 432x288 with 1 Axes>"
      ]
     },
     "metadata": {
      "needs_background": "light"
     },
     "output_type": "display_data"
    }
   ],
   "source": [
    "plt.plot(r_arr/Rprot, v_breeze/cs, 'b')"
   ]
  },
  {
   "cell_type": "code",
   "execution_count": 55,
   "id": "de9e283c-81e4-4a8e-955b-963f11ce9bfb",
   "metadata": {},
   "outputs": [
    {
     "data": {
      "text/plain": [
       "Text(0, 0.5, 'Density')"
      ]
     },
     "execution_count": 55,
     "metadata": {},
     "output_type": "execute_result"
    },
    {
     "data": {
      "text/plain": [
       "<Figure size 432x288 with 0 Axes>"
      ]
     },
     "metadata": {},
     "output_type": "display_data"
    },
    {
     "data": {
      "image/png": "[encoded data removed]",
      "text/plain": [
       "<Figure size 720x288 with 2 Axes>"
      ]
     },
     "metadata": {
      "needs_background": "light"
     },
     "output_type": "display_data"
    }
   ],
   "source": [
    "plt.clf()\n",
    "fig, axs = plt.subplots(1, 2, sharex=True, sharey=False, figsize=(10,4))\n",
    "\n",
    "#vel\n",
    "axs[0].plot(r_arr/Rprot, fun_soln/cs, c='green')\n",
    "axs[0].plot(r_arr/Rprot, v_breeze/cs, 'b')\n",
    "axs[0].set_title('v(r)')\n",
    "axs[0].set_xlabel('Radius (Rp)')\n",
    "axs[0].set_ylabel('Velocity (cs)')\n",
    "\n",
    "#rho\n",
    "axs[1].plot(r_arr/Rprot, rho_hydrostat, c='green')\n",
    "axs[1].plot(r_arr/Rprot, density, c='blue')\n",
    "axs[1].plot(r_arr/Rprot, rho_breeze, c='purple')\n",
    "axs[1].set_ylim(1e-14, Non)\n",
    "axs[1].set_title(r'$\\rho$(r)')\n",
    "axs[1].set_xlabel('Radius (Rp)')\n",
    "axs[1].set_ylabel(r'Density')"
   ]
  },
  {
   "cell_type": "code",
   "execution_count": null,
   "id": "45bbca09-2f09-490f-8161-e7c462f44acb",
   "metadata": {},
   "outputs": [],
   "source": []
  },
  {
   "cell_type": "code",
   "execution_count": null,
   "id": "d21125f3-5e6a-439c-98b2-e25ace738e8c",
   "metadata": {},
   "outputs": [],
   "source": []
  }
 ],
 "metadata": {
  "kernelspec": {
   "display_name": "Python 3 (ipykernel)",
   "language": "python",
   "name": "python3"
  },
  "language_info": {
   "codemirror_mode": {
    "name": "ipython",
    "version": 3
   },
   "file_extension": ".py",
   "mimetype": "text/x-python",
   "name": "python",
   "nbconvert_exporter": "python",
   "pygments_lexer": "ipython3",
   "version": "3.9.12"
  }
 },
 "nbformat": 4,
 "nbformat_minor": 5
}
