{
 "cells": [
  {
   "cell_type": "markdown",
   "id": "5e6a3af2-69bd-48ef-b2b4-380625d4c0f8",
   "metadata": {},
   "source": [
    "#### Micah Oeur"
   ]
  },
  {
   "cell_type": "markdown",
   "id": "e4703432-affc-4bb9-a7fa-aff75a3cb088",
   "metadata": {},
   "source": [
    "**(a)** Using the impulse approximation, estimate the impact parameter $b$ required for the mass $M$ to cause an order unity change in the (vector) velocity of the point mass. Given: $\\Delta t \\sim 2b/v_{rel}$ at a distance from the massive body comparable to the closest approach distance. Write your answer in terms of $R$, $v_{rel}$, and the escape velocity from the body, $v_{esc} = (2GM/R)^{1/2}$. Is the change in the magnitude of the velocity, its direction, or both?\n"
   ]
  },
  {
   "cell_type": "markdown",
   "id": "aa41ce85-e500-4a11-8cca-84e5eb46e5b2",
   "metadata": {},
   "source": [
    "$\\Delta v \\sim v_{rel}$"
   ]
  },
  {
   "cell_type": "markdown",
   "id": "bd540024-fdc9-4a27-bf80-79cdc5f4b0a0",
   "metadata": {},
   "source": [
    "Impulse appx: $m \\Delta v \\sim F\\Delta t$\n",
    "\n",
    "$$m v_{rel} \\sim  F\\Delta t$$\n",
    "\n",
    "Given: $\\Delta t \\sim 2b/v_{rel}$ and $F = GMm/b^2$,\n",
    "\n",
    "$$v_{rel} \\sim \\frac{GMm}{b^2}\\frac{2b}{m v_{rel}} $$\n",
    "\n",
    "$$v_{rel} \\sim  \\frac{2GM}{bv_{rel}}$$\n",
    "\n",
    "isolating $b$,\n",
    "\n",
    "$$b \\sim \\frac{2GM}{v_{rel}^2}$$.\n",
    "\n",
    "Given $v_{esc}^2R$ = 2GM ,\n",
    "\n",
    "$$b \\sim R \\frac{v_{esc}^2}{v_{rel}^2}$$\n",
    "\n",
    "The test particle experiences a significant change in direction, deflected due to strong scattering from the massive body. The velocity magnitude returns to $v_{rel}$ after being scattered."
   ]
  },
  {
   "cell_type": "markdown",
   "id": "b0455ac7-8b50-4a73-b96a-871ce54f31aa",
   "metadata": {},
   "source": [
    "**(b)** Use conservation of energy and angular momentum to calculate the impact parameter at which the test particle will graze the massive body’s surface. Write your answer in terms of $R$, $v_{rel}$, and $v_{esc}$."
   ]
  },
  {
   "cell_type": "markdown",
   "id": "3a94139d-699a-4aed-b777-4e2e0e7519f2",
   "metadata": {},
   "source": [
    "Conservation of energy: \n",
    "\n",
    "$$\\frac{1}{2}v_i^2 - \\frac{GM}{r_i} = \\frac{1}{2}v_f^2 - \\frac{GM}{r_f}$$\n",
    "\n",
    "with $v_{i} = v_{rel} and r_{i} = \\inf$ since our test particle is coming from infinity. $r_{f} = R$, radius of massive body and $v_{f} = v_{graze}$."
   ]
  },
  {
   "cell_type": "markdown",
   "id": "43f313ad-8027-4910-9fcd-1fe2f2fb06e4",
   "metadata": {},
   "source": [
    "$$ \\frac{1}{2}v_{rel}^2 - \\frac{GM}{\\inf} = \\frac{1}{2}v_{graze}^2 - \\frac{GM}{R} $$"
   ]
  },
  {
   "cell_type": "markdown",
   "id": "ed9b2ac2-7a4a-452f-acf8-1f2d15af7f18",
   "metadata": {},
   "source": [
    "$ \\vec{L} $ conservation:\n",
    "\n",
    "$$Mv_{i}r_{i} = Mv_{f}r_{f}$$\n",
    "\n",
    "$$Mv_{rel}b = Mv_{graze}R$$\n",
    "\n",
    "$$\\frac{v_{rel}b}{R} = v_{graze}$$\n",
    "\n",
    "$$v_{rel}^2 = \\frac{2v_{rel}^2 b^{2}}{2R^{2}} - \\frac{2GM}{R}$$\n",
    "\n",
    "$$v_{rel}^2(1-\\frac{b^{2}}{R^{2}}) = -(\\frac{2GM}{R})$$\n",
    "\n",
    "where $\\frac{2GM}{R} = v_{esc}^2$.\n",
    "\n",
    "$$v_{rel}^2(1-\\frac{b^{2}}{R^{2}}) = -v_{esc}^2$$\n",
    "\n",
    "$$1-\\frac{b^{2}}{R^{2}} = -\\frac{v_{esc}^2}{v_{rel}^2}$$\n",
    "\n",
    "$$-\\frac{b^{2}}{R^{2}} = -1 - \\frac{v_{esc}^2}{v_{rel}^2}$$\n",
    "\n",
    "$$\\frac{b^{2}}{R^{2}} = 1 + \\frac{v_{esc}^2}{v_{rel}^2}$$\n",
    "\n",
    "$$b^{2} = R^{2}(1 + \\frac{v_{esc}^2}{v_{rel}^2})$$\n",
    "\n",
    "$$b = R\\left( 1 + \\frac{v_{esc}^2}{v_{rel}^2}\\right) ^{1/2}$$"
   ]
  },
  {
   "cell_type": "markdown",
   "id": "c19972bb-aa61-4e5f-84c6-1647a5bed13d",
   "metadata": {},
   "source": [
    "**(c)** Now we will integrate the equations of motion to see how the actual trajectory of a particle coming in at each of these impact parameters behaves. We will employ a general numerical ODE solver. (It’s useful to have at least one of these in your tool kit!) Please use the Python function `scipy.integrate.solve_ivp`, which allows you to choose from several different methods to solve a system of ordinary differential equations. Its documentation is on the website in this footnote1. There are examples at the bottom of the documentation page. You will need to linearize your equations of motion, so that your variables are $(x, y, v_x, v_y)$ and their time derivatives are $(v_x, v_y, F_x, F_y)$, where $F_x$ and $F_y$ refer to the acceleration due to gravity from the point mass. Here is an example function call: `sol = solve_ivp(pointgrav2D, [tstart,tstop], coords0, t_eval=t, args=(GM,))` where `pointgrav2d(t, coords, GM)` is a function written by you defining the equations of motion, the initial conditions vector `coords0` has the form $[x_0, y_0, v_{x0}, v_{y0}]$, `tstart` and `tstop` are the starting and ending times of the integration, and `t` is a vector containing the times at which output will be generated (e.g., `t = np.linspace(tstart,tstop,num=nts)` if you want `nts` total output times)."
   ]
  },
  {
   "cell_type": "markdown",
   "id": "302dc9fd-da99-4e63-a070-5406aefed2b3",
   "metadata": {},
   "source": [
    "Use units of $M= 1$, $R = 1$, and $G = 1$. The choice of $G = 1$ sets the unit of time, as can be seen from considering the gravitational force equation $F = GMm/R^2$ . In these units, the escape velocity from the object is $v_{esc} = \\sqrt{2GM/R} = \\sqrt{2}$. We will pick an initial relative velocity of $v_{rel} = v_{esc}/2 \\lt v_{esc}$ so that gravitational focusing operates. Place the massive body at the origin. Start your test particle at $x = −10$ with initial velocity $v_x = v_{rel} = v_{esc}/2$ and $v_y = 0$. Choose the following values for $y$: $b_{coll}$, $b_{scat}$, and $2b_{scat}$, where $b_{coll}$ is the impact parameter for collisions calculated in part **(b)** and $b_{scat}$ is the impact parameter for strong scattering calculated in part **(a)**. Do the trajectories look like you expected?"
   ]
  },
  {
   "cell_type": "code",
   "execution_count": 1,
   "id": "8883694e-d829-45d3-a39a-3b22dd220076",
   "metadata": {},
   "outputs": [],
   "source": [
    "import numpy as np\n",
    "import matplotlib.pyplot as plt\n",
    "from scipy.integrate import solve_ivp"
   ]
  },
  {
   "cell_type": "code",
   "execution_count": 17,
   "id": "9578af9e-2041-4bef-a90d-c716c29e78e7",
   "metadata": {},
   "outputs": [],
   "source": [
    "def pointgrav2d(t, coords, GM):\n",
    "    x, y, vx, vy = coords #initial conditions vector\n",
    "    r = np.sqrt(x**2 + y**2)\n",
    "    Fx =  - (GM * x) / r**3 #acceleration due to gravity from pt mass\n",
    "    Fy = - (GM * y) / r**3 #acceleration due to gravity from pt mass\n",
    "    deriv = [vx, vy, Fx, Fy] \n",
    "    \n",
    "    return deriv"
   ]
  },
  {
   "cell_type": "code",
   "execution_count": 5,
   "id": "ff569b80-c530-42ee-917a-b91e68b65794",
   "metadata": {},
   "outputs": [],
   "source": [
    "# variables\n",
    "\n",
    "M = 1.\n",
    "R = 1.\n",
    "G = 1. #sets unit of time\n",
    "\n",
    "GM = G * M\n",
    "\n",
    "x0 = -10. #initial position\n",
    "\n",
    "v_esc = np.sqrt((2.*GM)/R) # np.sqrt(2.)\n",
    "#v_x\n",
    "v_rel = v_esc / 2. # < v_esc\n",
    "v_y = 0.\n",
    "\n",
    "tstart = 0.\n",
    "tstop = 40.\n",
    "nts = 1000\n",
    "\n",
    "t = np.linspace(tstart, tstop, nts)\n",
    "\n",
    "b_coll = R * np.sqrt((1 + (v_esc / v_rel)**2)) #collision, grazing,part (b)\n",
    "b_scat = R * (v_esc / v_rel)**2 #strong scattering, part (a)\n",
    "b_scat2 = 2. * b_scat #weak scattering"
   ]
  },
  {
   "cell_type": "code",
   "execution_count": 14,
   "id": "20653640-c349-403c-8ceb-87590fa04683",
   "metadata": {},
   "outputs": [],
   "source": [
    "# #3 different impact parameters, 4 variables (x0, y0, vx0, vy0)\n",
    "coords0 = np.zeros((3,4))\n",
    "\n",
    "coords0[0,:] = [-10.,b_coll,v_rel,0.] # collision\n",
    "coords0[1,:] = [-10.,b_scat,v_rel,0.] # strong scattering\n",
    "coords0[2,:] = [-10.,b_scat2,v_rel,0.] # weak scattering"
   ]
  },
  {
   "cell_type": "code",
   "execution_count": 15,
   "id": "bc427a51-9ad5-48a2-909b-1f7fd9982ac4",
   "metadata": {},
   "outputs": [],
   "source": [
    "xs = np.zeros((3,nts))\n",
    "ys = np.zeros((3,nts))"
   ]
  },
  {
   "cell_type": "code",
   "execution_count": 18,
   "id": "85c1fe41-fb8b-4c84-99b0-3106ff368f09",
   "metadata": {},
   "outputs": [],
   "source": [
    "for i in range(3):\n",
    "    sol = solve_ivp(pointgrav2d, [tstart,tstop], coords0[i,:], t_eval=t, args=(GM,))\n",
    "    xs[i] = sol.y[0]\n",
    "    ys[i] = sol.y[1]"
   ]
  },
  {
   "cell_type": "code",
   "execution_count": 20,
   "id": "419470fa-d79e-4a0d-ab3f-4737906979c7",
   "metadata": {},
   "outputs": [
    {
     "data": {
      "image/png": "[encoded data removed]",
      "text/plain": [
       "<Figure size 576x576 with 1 Axes>"
      ]
     },
     "metadata": {
      "needs_background": "light"
     },
     "output_type": "display_data"
    }
   ],
   "source": [
    "plt.rcParams[\"figure.figsize\"] = (8,8)\n",
    "plt.plot(xs[0], ys[0], label='collision')\n",
    "plt.plot(xs[1], ys[1], label='strong scattering')\n",
    "plt.plot(xs[2], ys[2], label='weak scattering')\n",
    "\n",
    "# add a circle at the origin representing the massive body\n",
    "circle = plt.Circle((0, 0), radius=1., color='k')\n",
    "plt.gca().add_patch(circle)\n",
    "\n",
    "plt.xlim(-10,10)\n",
    "plt.ylim(-10,10)\n",
    "plt.xlabel('x')\n",
    "plt.ylabel('y')\n",
    "plt.legend()\n",
    "plt.show()"
   ]
  },
  {
   "cell_type": "markdown",
   "id": "b93c5c52-d92e-450c-9eff-a64f61a4e4aa",
   "metadata": {},
   "source": [
    "It looks like what I'd expect because the collision path grazes the surface of the massive body, the strong scattering shows the test particle being significantly deflected (large change in direction), and the mild interaction has the test particle only slightly deflected. The strong scattering path has a smaller impact parameter than the weak scattering path, so the test particle following the green line is less affected by the massive body than the test particle following the orange path is."
   ]
  },
  {
   "cell_type": "code",
   "execution_count": null,
   "id": "c40549f3-8f49-413b-9c91-fc8a23cd940d",
   "metadata": {},
   "outputs": [],
   "source": []
  }
 ],
 "metadata": {
  "kernelspec": {
   "display_name": "Python 3 (ipykernel)",
   "language": "python",
   "name": "python3"
  },
  "language_info": {
   "codemirror_mode": {
    "name": "ipython",
    "version": 3
   },
   "file_extension": ".py",
   "mimetype": "text/x-python",
   "name": "python",
   "nbconvert_exporter": "python",
   "pygments_lexer": "ipython3",
   "version": "3.9.12"
  }
 },
 "nbformat": 4,
 "nbformat_minor": 5
}
