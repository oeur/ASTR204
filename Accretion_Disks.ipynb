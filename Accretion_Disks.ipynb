{
 "cells": [
  {
   "cell_type": "markdown",
   "id": "b8c3db4d-de1d-48cb-be23-9a4176dc4261",
   "metadata": {},
   "source": [
    "$\\\\frac{\\\\partial\\\\Sigma}{\\\\partial t} = \\\\frac{3}{r} \\\\frac{\\\\partial}{\\\\partial r}\\\\left[r^{1/2} \\\\frac{\\\\partial}{\\\\partial r} (\\\\Sigma \\\\nu r^{1/2})\\\\right]$"
   ]
  },
  {
   "cell_type": "markdown",
   "id": "11e4af31-5f88-4254-bba6-fb070e3c498c",
   "metadata": {},
   "source": [
    "#### We want to explore how the accretion surface density evolves over time."
   ]
  },
  {
   "cell_type": "code",
   "execution_count": 1,
   "id": "e990f0cc-7401-439c-b240-561c8a80f924",
   "metadata": {},
   "outputs": [],
   "source": [
    "import numpy as np\n",
    "import matplotlib.pyplot as plt\n",
    "import time\n",
    "import math"
   ]
  },
  {
   "cell_type": "code",
   "execution_count": 2,
   "id": "d2d5e4b1-5de8-4262-8482-fe1e78eac28a",
   "metadata": {},
   "outputs": [],
   "source": [
    "Msun = 1.99e33 # g; mass of the Sun\n",
    "AU = 1.496e13 # cm; Astronomical Unit\n",
    "sec_to_years = 3.154e7 # number of seconds in a year\n",
    "kB = 1.3807e-16 # erg/K; Boltzmann constant\n",
    "mH = 1.6733e-24 # g; mass of hydrogen atom\n",
    "G = 6.67259e-8 # cm^3/g/s^2; gravitational constant"
   ]
  },
  {
   "cell_type": "code",
   "execution_count": 3,
   "id": "99eb47fc-e43c-4678-8a62-6405fa43b434",
   "metadata": {},
   "outputs": [],
   "source": [
    "def solve_tri_diag(a,b,c,r):\n",
    "    \n",
    "    \"\"\"Solver for tri-diagonal matrices, i.e. matrices where the only non-zero entries are on the diagonal\n",
    "    or one to the left or right of the diagonal. Adapted from Chap. 2 of Numerical Recipies by Mickey Rosenthal\"\"\"\n",
    "    \n",
    "    # In each row of the matrix, b is the value on the diagonal, \n",
    "    # a is the value to the left of the diagonal, and\n",
    "    # c is the value to the right of the diagonal.\n",
    "    # The vectors a, b, and c are indexed by the matrix row.\n",
    "    \n",
    "    # The vector r is the right-hand-side of the equation.\n",
    "    # Calling the matrix M, we are solving for the vector x in Mx = r.\n",
    "    \n",
    "    N = len(a)\n",
    "    u = np.zeros(N)\n",
    "    gamma = np.zeros(N)\n",
    "    \n",
    "    # return an error if the top left corner value of the matrix is zero\n",
    "    assert b[0]!=0,\"Linearly dependent system of equations\"\n",
    "    \n",
    "    # solve\n",
    "    \n",
    "    beta = b[0]\n",
    "    u[0] = r[0]/beta\n",
    "    \n",
    "    for j in range(1,N):\n",
    "        gamma[j] = c[j-1]/beta\n",
    "        beta = b[j] - a[j]*gamma[j]\n",
    "        \n",
    "        # if you ever get a zero \"pivot\", the matrix isn't in the right form,\n",
    "        # so return an error to avoid division by zero\n",
    "        assert beta!=0, \"Zero pivot at j = \"+str(j)\n",
    "        \n",
    "        u[j] = (r[j]-a[j]*u[j-1])/beta\n",
    "    \n",
    "    for j in reversed(range(N-1)):\n",
    "        u[j] -= gamma[j+1]*u[j+1]\n",
    "        \n",
    "    return u"
   ]
  },
  {
   "cell_type": "markdown",
   "id": "900159f8-1861-4160-a9f8-1aff099944b0",
   "metadata": {},
   "source": [
    "#### Self-similar solution "
   ]
  },
  {
   "cell_type": "code",
   "execution_count": 4,
   "id": "d2ef8162-38e2-4b33-aecf-b4d970549b6f",
   "metadata": {},
   "outputs": [],
   "source": [
    "# This function returns an array of the surface density of the disk (in g/cm^2) \n",
    "# at the radii in rad_array (provided in cm).  \n",
    "# rscale (cm) = scale of the disk at time 0\n",
    "# sigma0 (g/cm^2) = disk surface density at time 0 and radius rscale\n",
    "# kinematic viscosity nu is given by nu = nu0*(rad_array/rscale)**gamma\n",
    "# nu0 (cm^2/s) = viscosity at rscale\n",
    "# gamma = exponent for viscosity's radial dependence\n",
    "\n",
    "def sig_sim(t, rad_arr, rscale, sigma0, nu0, gamma):\n",
    "    \n",
    "    R = rad_arr/rscale # normalized radius variable\n",
    "    \n",
    "    tvisc = rscale**2/nu0 / (3*(2-gamma)**2) # viscous timescale times an order unity constant\n",
    "    T = t/tvisc + 1 # time normalized to viscous timescale\n",
    "    \n",
    "    C = sigma0*np.exp(1) # normalization coefficient\n",
    "    sigma = C/R**gamma*T**(-(5./2.-gamma)/(2.-gamma))*np.exp(-R**(2.-gamma)/T)\n",
    "    \n",
    "    return sigma"
   ]
  },
  {
   "cell_type": "markdown",
   "id": "90e4392d-714a-4a8a-ba11-9cf799d75c9f",
   "metadata": {},
   "source": [
    "#### We want to consider a radial range going from a tiny fraction of an astronomical unit out to 10**3 astronomical units"
   ]
  },
  {
   "cell_type": "code",
   "execution_count": 5,
   "id": "cebd8cc3-3250-4efa-a9af-3c31934727cb",
   "metadata": {},
   "outputs": [],
   "source": [
    "npts = 3000 # number of radial points\n",
    "# set up an array of radii that are log-spaced so we can plot results over a range of radii\n",
    "r_inner = 0.01*AU\n",
    "r_outer = 1e3*AU\n",
    "rad_arr = np.linspace(r_inner,r_outer,num=npts) # cm"
   ]
  },
  {
   "cell_type": "code",
   "execution_count": 6,
   "id": "58422ce2-d0e6-4883-ad99-e8540582dd22",
   "metadata": {},
   "outputs": [],
   "source": [
    "rscale = 10.0*AU\n",
    "sigma0 = 100.0 # g/cm^2 # surface density at rscale\n",
    "T0 = 100.0 # K # temperature at rscale\n",
    "mu = 2.0*mH # approximate mean molecular weight for disk gas (molecular hydrogen)\n",
    "cs0 = np.sqrt(kB*T0/mu) # sound speed at rscale\n",
    "alpha = 1e-3 # alpha parameter for the accretion disk\n",
    "M_star = Msun\n",
    "\n",
    "# INSERT YOUR EXPRESSION(S) HERE\n",
    "Omega = np.sqrt(G*M_star/rscale**3)\n",
    "H0 = cs0/Omega  # scale height of disk at rscale\n",
    "\n",
    "# kinematic viscosity at rscale\n",
    "nu0 = alpha*cs0*H0\n",
    "\n",
    "# INSERT YOUR RESULT HERE\n",
    "gamma = 1.0\n",
    "\n",
    "# viscous time\n",
    "tvisc = rscale**2/nu0\n",
    "\n",
    "# define function nu that takes radius r and returns the viscosity\n",
    "nu = lambda r: nu0*(r/rscale)**gamma"
   ]
  },
  {
   "cell_type": "code",
   "execution_count": 7,
   "id": "b4779dad-fa76-4381-93cd-9e51461deb12",
   "metadata": {},
   "outputs": [],
   "source": [
    "#time 0, 0.1 viscous times, 1 viscous time, and 3 viscous times."
   ]
  },
  {
   "cell_type": "code",
   "execution_count": 8,
   "id": "45ddc87d-a0ad-4bf7-b4af-abd8b976f6bd",
   "metadata": {},
   "outputs": [],
   "source": [
    "sig_sim0 = sig_sim(0, rad_arr, rscale, sigma0, nu0, gamma)\n",
    "sig_sim01 = sig_sim(0.1*tvisc, rad_arr, rscale, sigma0, nu0, gamma)\n",
    "sig_sim1 = sig_sim(tvisc, rad_arr, rscale, sigma0, nu0, gamma)\n",
    "sig_sim3 = sig_sim(3*tvisc, rad_arr, rscale, sigma0, nu0, gamma)"
   ]
  },
  {
   "cell_type": "code",
   "execution_count": 27,
   "id": "451e7b53-970e-446a-8a09-2b5fbd7ece1f",
   "metadata": {},
   "outputs": [
    {
     "data": {
      "text/plain": [
       "(0.001, 1000.0)"
      ]
     },
     "execution_count": 27,
     "metadata": {},
     "output_type": "execute_result"
    },
    {
     "data": {
      "image/png": "[encoded data removed]",
      "text/plain": [
       "<Figure size 432x288 with 1 Axes>"
      ]
     },
     "metadata": {
      "needs_background": "light"
     },
     "output_type": "display_data"
    }
   ],
   "source": [
    "plt.loglog(rad_arr, sig_sim0, c='orange', label='0')\n",
    "plt.loglog(rad_arr, sig_sim01, c='magenta', label='0.1*tvisc')\n",
    "plt.loglog(rad_arr, sig_sim1, c='cyan', label='tvisc')\n",
    "plt.loglog(rad_arr, sig_sim3, c='darkgreen', label='3*tvisc')\n",
    "plt.legend()\n",
    "plt.ylabel(r'$\\Sigma(r)$')\n",
    "plt.xlabel('Radius')\n",
    "plt.xlim(10e13, 10e15)\n",
    "plt.ylim(10e-4, 10e2)"
   ]
  },
  {
   "cell_type": "markdown",
   "id": "9082cac1-63e7-49ea-bf32-dde2e09ce841",
   "metadata": {},
   "source": [
    "#### This is how the surface density changes from small to large radius at fixed viscous times.\n",
    "#### Viscous processes occur over time tvisc (angular momentum distribution transfered due to torquing)\n",
    "#### at tvisc=0, the surface density falls off quickly with growing radius, but at the extreme end of 3 tviscs the surface density falls off less steeply as a function of radius. This makes sense to me because the more viscous times, the longer the material has to resist flow"
   ]
  },
  {
   "cell_type": "code",
   "execution_count": 10,
   "id": "16cd187a-07c4-44e9-a1e4-92887ca582cf",
   "metadata": {},
   "outputs": [],
   "source": [
    "delta_t = 1e-3*tvisc # timestep for simulation\n",
    "t_arr = np.arange(0,5.0*tvisc,delta_t) # array of times\n",
    "sig_arr = np.zeros((len(t_arr),len(rad_arr))) # array to hold surface density results"
   ]
  },
  {
   "cell_type": "code",
   "execution_count": 11,
   "id": "2df51ed2-49d3-4abf-add6-125409ef6f80",
   "metadata": {},
   "outputs": [],
   "source": [
    "# Initial condition\n",
    "sig_arr[0] = sig_sim(0.0, rad_arr, rscale, sigma0, nu0, gamma)"
   ]
  },
  {
   "cell_type": "code",
   "execution_count": 12,
   "id": "2b2f7640-4fdf-457d-a0e4-92488455b1ad",
   "metadata": {},
   "outputs": [
    {
     "name": "stdout",
     "output_type": "stream",
     "text": [
      "0%\n"
     ]
    },
    {
     "name": "stderr",
     "output_type": "stream",
     "text": [
      "/tmp/ipykernel_135930/3925245442.py:9: RuntimeWarning: overflow encountered in multiply\n",
      "  grad1 = np.gradient(nu(rad_arr)*sig_arr[i]*rad_arr**0.5, rad_arr)\n",
      "/home1/07439/moeur/anaconda3/lib/python3.9/site-packages/numpy/lib/function_base.py:1092: RuntimeWarning: invalid value encountered in multiply\n",
      "  out[tuple(slice1)] = a * f[tuple(slice2)] + b * f[tuple(slice3)] + c * f[tuple(slice4)]\n",
      "/home1/07439/moeur/anaconda3/lib/python3.9/site-packages/numpy/lib/function_base.py:1092: RuntimeWarning: invalid value encountered in add\n",
      "  out[tuple(slice1)] = a * f[tuple(slice2)] + b * f[tuple(slice3)] + c * f[tuple(slice4)]\n"
     ]
    },
    {
     "name": "stdout",
     "output_type": "stream",
     "text": [
      "10%\n",
      "20%\n",
      "30%\n",
      "40%\n",
      "50%\n",
      "60%\n",
      "70%\n",
      "80%\n",
      "90%\n",
      "100%\n",
      "Integration took 7.618 seceonds\n"
     ]
    }
   ],
   "source": [
    "\n",
    "tstart = time.time() # for tracking how long the integration takes\n",
    "\n",
    "for i in range(len(t_arr)-1): # loop through array of times\n",
    "    \n",
    "    # np.gradient(f,x) returns an array containing df/dx, calculated\n",
    "    # using a finite difference method (see the main page for details)\n",
    "    # np.gradient IS GREAT FOR WHEN YOU NEED TO PLOT DERIVATIVES\n",
    "    \n",
    "    grad1 = np.gradient(nu(rad_arr)*sig_arr[i]*rad_arr**0.5, rad_arr)\n",
    "    grad2 = np.gradient(rad_arr**0.5*grad1, rad_arr)\n",
    "     \n",
    "    dSigdt = (3./rad_arr)*grad2\n",
    "    \n",
    "    sig_arr[i+1] = sig_arr[i] + dSigdt*delta_t\n",
    "           \n",
    "    if (i % int((len(t_arr)-1)/10) == 0):\n",
    "        print (\"%i%%\" %math.ceil(100*i/(len(t_arr)-1))) # simple progress tracker\n",
    "    \n",
    "print(\"Integration took %.3f seceonds\" %(time.time()-tstart)) # print how long integration took"
   ]
  },
  {
   "cell_type": "markdown",
   "id": "53a80ed8-7cd0-4cd2-95e5-4ac987086a83",
   "metadata": {},
   "source": [
    "#### The integration gives us an array of surface density values which we can plot over our radial range"
   ]
  },
  {
   "cell_type": "code",
   "execution_count": 13,
   "id": "a943f0a5-1c8d-4384-b7bd-ecf9d7b51c4b",
   "metadata": {},
   "outputs": [
    {
     "data": {
      "text/plain": [
       "(5000,)"
      ]
     },
     "execution_count": 13,
     "metadata": {},
     "output_type": "execute_result"
    }
   ],
   "source": [
    "t_arr.shape"
   ]
  },
  {
   "cell_type": "code",
   "execution_count": 14,
   "id": "f9d24878-d7de-469c-9db7-a04ba4c11090",
   "metadata": {},
   "outputs": [
    {
     "data": {
      "text/plain": [
       "(0.0001, 1000000.0)"
      ]
     },
     "execution_count": 14,
     "metadata": {},
     "output_type": "execute_result"
    },
    {
     "data": {
      "image/png": "[encoded data removed]",
      "text/plain": [
       "<Figure size 432x288 with 1 Axes>"
      ]
     },
     "metadata": {
      "needs_background": "light"
     },
     "output_type": "display_data"
    }
   ],
   "source": [
    "ind =  24\n",
    "\n",
    "sig_analyt_0 = sig_sim(t_arr[0], rad_arr, rscale, sigma0, nu0, gamma)\n",
    "sig_analyt = sig_sim(t_arr[ind], rad_arr, rscale, sigma0, nu0, gamma)\n",
    "\n",
    "plt.loglog(rad_arr/AU, sig_analyt_0, color='blue')\n",
    "plt.loglog(rad_arr/AU, sig_analyt, color='red')\n",
    "\n",
    "plt.loglog(rad_arr/AU, sig_arr[ind], color='black', linestyle='dashed')\n",
    "\n",
    "plt.xlim(0.01,1000)\n",
    "plt.ylim(1e-4,1e6)"
   ]
  },
  {
   "cell_type": "markdown",
   "id": "28bf4ef3-a1e5-4a94-b80a-e235cf723d3e",
   "metadata": {},
   "source": [
    "#### at early times, the analytic/self-similar solution of surface density as a fn of radius it appears unstable"
   ]
  },
  {
   "cell_type": "code",
   "execution_count": 15,
   "id": "036b5639-f1db-44d1-bf08-24d8c3b83cf5",
   "metadata": {},
   "outputs": [
    {
     "data": {
      "text/plain": [
       "(100.0, 1000.0)"
      ]
     },
     "execution_count": 15,
     "metadata": {},
     "output_type": "execute_result"
    },
    {
     "data": {
      "image/png": "[encoded data removed]",
      "text/plain": [
       "<Figure size 432x288 with 1 Axes>"
      ]
     },
     "metadata": {
      "needs_background": "light"
     },
     "output_type": "display_data"
    }
   ],
   "source": [
    "ind = 20 # choose which time index to plot\n",
    "\n",
    "sig_analyt_0 = sig_sim(t_arr[0], rad_arr, rscale, sigma0, nu0, gamma)\n",
    "sig_analyt = sig_sim(t_arr[ind], rad_arr, rscale, sigma0, nu0, gamma)\n",
    "\n",
    "plt.plot(rad_arr/AU, sig_analyt_0, color='blue')\n",
    "plt.plot(rad_arr/AU, sig_analyt, color='red')\n",
    "\n",
    "plt.plot(rad_arr/AU, sig_arr[ind], color='black', linestyle='dashed')\n",
    "\n",
    "plt.xlim(1,10)\n",
    "plt.ylim(1e2,1e3)"
   ]
  },
  {
   "cell_type": "markdown",
   "id": "2b4f8ba9-d911-45c1-b779-e60ed692babe",
   "metadata": {},
   "source": [
    "#### yet we have the correct equation"
   ]
  },
  {
   "cell_type": "code",
   "execution_count": 31,
   "id": "2a413233-d624-4491-a88c-774c0049cd8e",
   "metadata": {},
   "outputs": [],
   "source": [
    "# I made it a class!  The number of times I typed \"self\" was large.  Is that how\n",
    "# it's supposed to be, Jules?\n",
    "class disk_integration:\n",
    "    \"\"\" A class for performing a time integration of the surface density\n",
    "    of an accretion disk using a BTCS implicit method.\n",
    "    \n",
    "    Parameters\n",
    "    ----------\n",
    "    r_inner : float, optional\n",
    "        Inner radius of the disk (cm)\n",
    "    r_outer: float, optional\n",
    "        Outer radius of the disk (cm)\n",
    "    npts : int, optional\n",
    "        Number of radial points\n",
    "    r0 : float, optional\n",
    "        Disk reference radius (cm)\n",
    "    sigma0 : float, optional\n",
    "        Surface density normalization (g/cm^2) at radius r0\n",
    "    T0 : float, optional\n",
    "        Disk temperature at radius r0 (K)\n",
    "    alpha : float, optional \n",
    "        Parameter for computing viscosity (dimensionless)\n",
    "    gamma : float, optional\n",
    "        Powerlaw index for radial dependence of viscosity nu = nu0(r/r0)^gamma\n",
    "    Mstar : float, optional\n",
    "        Mass of the central star (g)\n",
    "    delta_t : int, optional\n",
    "        Time step of the integration in units of the viscous time at radius r0\n",
    "    tfinal : float, optional\n",
    "        Final time for the integration, in units of the viscous time at radius r0\n",
    "    \"\"\"\n",
    "    \n",
    "    def __init__(self, r_inner=0.01*AU, r_outer=1e3*AU, npts=300, r0=10.0*AU, sigma0=100.0, T0 = 100.0, alpha=1e-3, gamma=1.0, Mstar=Msun, delta_t=1e-3, tfinal=5.0):\n",
    "        \n",
    "        # add all the inputs as variables\n",
    "        self.r_inner = r_inner\n",
    "        self.r_outer = r_outer\n",
    "        self.npts = npts\n",
    "        self.r0 = r0\n",
    "        self.sigma0 = sigma0\n",
    "        self.T0 = T0\n",
    "        self.alpha = alpha\n",
    "        self.gamma = gamma\n",
    "        self.Mstar = Mstar\n",
    "        self.delta_t = delta_t\n",
    "        self.tfinal = tfinal\n",
    "    \n",
    "        # calculate the viscosity normalization at r0\n",
    "        self.mu = 2.0*mH # mean molecular weight (g)\n",
    "        self.cs0 = np.sqrt(kB*self.T0/self.mu) # sound speed at r0\n",
    "        self.Omega = np.sqrt(G*self.Mstar/self.r0**3) # orbital angular frequency at r0\n",
    "        self.H0 = self.cs0/self.Omega  # scale height of disk at r0\n",
    "        self.nu0 = self.alpha*self.cs0*self.H0 # kinematic viscosity at r0\n",
    "\n",
    "        # calculate the viscous time and set up the array of times\n",
    "        self.tvisc = self.r0**2/self.nu0\n",
    "        self.delta_t = self.delta_t*self.tvisc # timestep for simulation (s)\n",
    "        self.tfinal = self.tfinal*self.tvisc # end time for simulation (s)\n",
    "        self.t_arr = np.arange(0,self.tfinal,self.delta_t) # array of times\n",
    "        \n",
    "        # set up the radius array, making it linear in our transformed variable y\n",
    "        # for nice differencing\n",
    "        self.y_arr = np.linspace(2*self.r_inner**(1/2),2*self.r_outer**(1/2),num=self.npts)\n",
    "        self.delta_y = self.y_arr[1]-self.y_arr[0]\n",
    "        self.rad_arr = (self.y_arr/2.)**2. # array of actual disance from star (cm)\n",
    "\n",
    "        # set up surface density array in transformed variables\n",
    "        self.u_arr = np.zeros((len(self.t_arr),len(self.y_arr))) # array to hold transformed surface density\n",
    "        self.sig_arr = np.zeros(self.u_arr.shape) # array to hold actual surface density (g/cm^2)\n",
    "        \n",
    "    def sig_sim(self, t):\n",
    "        \"\"\" Calculate similarity solution for the disk at time t \n",
    "        \n",
    "        Parameters\n",
    "        ----------\n",
    "        t : float\n",
    "            Time (s)\n",
    "        \"\"\" \n",
    "        R = self.rad_arr/self.r0 # normalized radius variable\n",
    "    \n",
    "        tvisc_mod = self.tvisc / (3*(2-self.gamma)**2) # viscous timescale times an order unity constant\n",
    "        T = t/tvisc_mod + 1 # time normalized to viscous timescale\n",
    "        # (see module for discussion of this similarity solution) \n",
    "    \n",
    "        C = self.sigma0*np.exp(1) # normalization coefficient\n",
    "        sigma = C/R**gamma*T**(-(5./2.-gamma)/(2.-gamma))*np.exp(-R**(2.-gamma)/T)\n",
    "    \n",
    "        return sigma\n",
    "    \n",
    "    def sig_delta(self):\n",
    "        \"\"\" Generate a gaussian surface density profile at radius r0 that is \n",
    "            thin to mimic a delta function. \"\"\"\n",
    "\n",
    "        # YOUR FUNCTION HERE\n",
    "        thin = 0.01 # parameter giving the initial thinness of the gaussian\n",
    "        \n",
    "        # standard deviation of the gaussian\n",
    "        stddev = thin*self.r0/2. # factor of 2 because the standard deviation is half the gaussian width\n",
    "        \n",
    "        mean = self.r0 # center of the gaussian\n",
    "        \n",
    "        # for approximate comparison, put the same disk mass in a ring with area\n",
    "        # 2*pi*r0*(thin*r0) that would otherwise be in area pi*r0^2, hence the\n",
    "        # factor of 2\n",
    "        sigma = self.sigma0/(thin*2.0)*np.exp(-0.5*((self.rad_arr-mean)/stddev)**2)\n",
    "        \n",
    "        return sigma\n",
    "    \n",
    "    def set_ic(self, ic_type):\n",
    "        \"\"\" Set up the initial disk surface density profile \n",
    "        \n",
    "        Parameters\n",
    "        ----------\n",
    "        ic_type : str\n",
    "            Type of initial condition.  Options: 'selfsim' = self-similar disk,\n",
    "            'deltafn' = thin Gaussian approximating a delta function.\n",
    "        \"\"\"\n",
    "        if ic_type == 'selfsim':\n",
    "            sig_init = self.sig_sim(self.t_arr[0])\n",
    "        elif ic_type == 'deltafn':\n",
    "            sig_init = self.sig_delta()\n",
    "        else:\n",
    "            raise NotImplementedError(f\"I don't have initial conditions for type {ic_type}.\")\n",
    "        \n",
    "        self.u_arr[0] = sig_init*self.rad_arr**(self.gamma+1/2)\n",
    "        self.sig_arr[0] = self.u_arr[0]/(self.rad_arr**(self.gamma+1/2)) # we'll transform to actual surface density as we go \n",
    "      \n",
    "        \n",
    "    def nu(self, r):\n",
    "        \"\"\" Calculate the viscosity at radius r \n",
    "        \n",
    "        Parameters\n",
    "        ----------\n",
    "        r : float or array of floats\n",
    "            Disk radius or radii (cm)\n",
    "        \"\"\"\n",
    "        return self.nu0*(r/self.r0)**self.gamma\n",
    "    \n",
    "    def C_i(self, i):\n",
    "        \"\"\" Calculate C_i, defined in the Markdown notes\n",
    "        \n",
    "        Parameters\n",
    "        ----------\n",
    "        i : int\n",
    "            Radial position index\n",
    "        \"\"\"\n",
    "        return 12.*self.delta_t/self.delta_y**2.*self.nu(self.rad_arr[i])/self.y_arr[i]**2.\n",
    "    \n",
    "   \n",
    "    def evolve_disk(self):\n",
    "\n",
    "        # for keeping track of how long the integration takes\n",
    "        tstart = time.time()\n",
    "\n",
    "        # In each time step, we'll solve the matrix equation excluding \n",
    "        # the two boundary radii, then explicitly adjust the boundaries\n",
    "        N = len(self.y_arr)-2 # number of radii minus the two boundaries\n",
    "\n",
    "        # for holding adjustments to the matrix to account for boundary conditions (BCs)\n",
    "        bc_vec = np.zeros(N)\n",
    "        \n",
    "        for j in range(len(self.t_arr)-1): # loop through array of times\n",
    "        \n",
    "            # These are for setting up an array for tri-diagonal solving. \n",
    "            # In each row of the matrix, b is the value on the diagonal, \n",
    "            # a is the value to the left of the diagonal, and\n",
    "            # c is the value to the right of the diagonal.\n",
    "            # The vectors a, b, and c are indexed by the matrix row.\n",
    "            a = np.zeros(N)\n",
    "            b = np.zeros(N)\n",
    "            c = np.zeros(N)\n",
    "    \n",
    "            # Choose a fixed value D_in for u at the innermost radius.\n",
    "            # Setting to a fixed value is called a Dirichlet boundary condition.\n",
    "            D_in = 0.0  # fixed value of u_0\n",
    "            # We'll add the below to the value of u_1^j (the second radial location)\n",
    "            # before solving the matrix equation.  Without this, the matrix equation \n",
    "            # set up below would be, at the left boundary (where there is no value, a, \n",
    "            # to the left of the diagonal because it's the top left corner of the matrix):\n",
    "            # u_1^j = -C_1 u_2^{j+1} + (1 + 2C_1) u_1^{j+1} but we want\n",
    "            # u_1^j = -C_1 u_2^{j+1} + (1 + 2C_1) u_1^{j+1} - C_1 u_0^{j+1}\n",
    "            # We accomplish this by adding C_1 u_0 to u_1^j before solving the matrix\n",
    "            # equation, so that u_1^j + C_1 u_0 = -C_1 u_2^{j+1} + (1 + 2C_1) u_1^{j+1}\n",
    "            bc_vec[0] = self.C_i(1)*D_in \n",
    "            # At the outer edge of the disk, we'll instead use a zero-derivative boundary\n",
    "            # condition, which is called a Neumann boundary condition.\n",
    "            # We'll add the below to the value of u_-2, where like Python indexing, \n",
    "            # I'm using -2 as shorthand for npts-2 (so that the index -1 refers to the last\n",
    "            # element of the array). \n",
    "            # The matrix equation without this extra addition would be\n",
    "            # u_-2^j = (1 + 2C_-2) u_-2^{j+1} - C_-2 u_-3\n",
    "            # but we want u_-2^j = -C_-2 u_-1^{j+1} + (1 + 2C_-2) u_-2^{j+1} - C_-2 u_-3^{j+1}\n",
    "            # with u_-1^{j+1} - u_-2^{j+1} = 0, so that u_-2^j = (1 + C_-2) u_-2^{j+1} - C_-2 u_-3^{j+1}\n",
    "            # We accomplish this by adding C_-2 u_-2^j to u_-2^j before solving the matrix\n",
    "            # equation, so that u_-2^j + C_-2 u_-2^j = (1 + 2C_-2) u_-2^{j+1} - C_-2 u_-3.\n",
    "            # It's not exactly perfect since the extra term on the LHS has u_-2^j instead\n",
    "            # of u_-2^{j+1}, but it does the job.\n",
    "            bc_vec[-1] = self.C_i(-2)*self.u_arr[j][-2] \n",
    "            \n",
    "            for i in range(N): \n",
    "            \n",
    "                # Set up and solve the matrix equation.\n",
    "                # (If this were an explicit scheme we'd loop through u_arr \n",
    "                # and set the values of u[j+1] explicitly.)\n",
    "        \n",
    "                Ci = self.C_i(i)\n",
    "        \n",
    "                if i == 0: # a[0] is undefined\n",
    "                    b[0] = 1+2*Ci\n",
    "                    c[0] = -Ci\n",
    "                elif i == N - 1: # c[-1] is undefined\n",
    "                    a[-1] = -Ci\n",
    "                    b[-1] = 1+2*Ci\n",
    "                else:\n",
    "                    a[i] = -Ci\n",
    "                    b[i] = 1+2*Ci\n",
    "                    c[i] = -Ci\n",
    "                    \n",
    "            sol = solve_tri_diag(a,b,c,self.u_arr[j][1:-1]+bc_vec)\n",
    "    \n",
    "            #u at next timestep is the solution with the inner and outer BCs added\n",
    "            self.u_arr[j+1] = np.concatenate(([D_in],sol,[sol[-1]])) \n",
    "        \n",
    "            self.sig_arr[j+1] = self.u_arr[j+1]/(self.rad_arr**(self.gamma+1/2)) # convert from u to actual surface density\n",
    "            \n",
    "            if (j % int((len(self.t_arr)-1)/10) == 0):\n",
    "                print (\"%i%%\" %math.ceil(100*j/(len(self.t_arr)-1))) # rudimentary progress tracker\n",
    "    \n",
    "        print(\"Integration took %.3f seceonds\" %(time.time()-tstart)) # print how long integration took"
   ]
  },
  {
   "cell_type": "code",
   "execution_count": 32,
   "id": "4923ad27-f08e-4488-854d-1aa864fbc0b1",
   "metadata": {},
   "outputs": [
    {
     "name": "stdout",
     "output_type": "stream",
     "text": [
      "0%\n",
      "10%\n",
      "20%\n",
      "30%\n",
      "40%\n",
      "50%\n",
      "60%\n",
      "70%\n",
      "80%\n",
      "90%\n",
      "100%\n",
      "Integration took 43.835 seceonds\n"
     ]
    }
   ],
   "source": [
    "# set up the disk\n",
    "disk = disk_integration()\n",
    "# set the initial condition\n",
    "disk.set_ic('selfsim')\n",
    "# run the simulation\n",
    "disk.evolve_disk()"
   ]
  },
  {
   "cell_type": "code",
   "execution_count": 33,
   "id": "f535cb35-9f31-492e-981a-81d8493e388c",
   "metadata": {},
   "outputs": [
    {
     "data": {
      "text/plain": [
       "(0.0001, 1000000.0)"
      ]
     },
     "execution_count": 33,
     "metadata": {},
     "output_type": "execute_result"
    },
    {
     "data": {
      "image/png": "[encoded data removed]",
      "text/plain": [
       "<Figure size 432x288 with 1 Axes>"
      ]
     },
     "metadata": {
      "needs_background": "light"
     },
     "output_type": "display_data"
    }
   ],
   "source": [
    "ind = 10\n",
    "\n",
    "\n",
    "plt.loglog(disk.rad_arr/AU,disk.sig_arr[0], 'b') # initial disk structure\n",
    "\n",
    "plt.loglog(disk.rad_arr/AU,disk.sig_arr[ind], 'k') # numerical result\n",
    "plt.loglog(disk.rad_arr/AU, disk.sig_sim(disk.t_arr[ind]), 'm--') # analytic result for comparison\n",
    "\n",
    "plt.loglog(disk.rad_arr/AU,disk.sig_arr[-1], color='gray') # numerical result at the end of the integration\n",
    "plt.loglog(disk.rad_arr/AU, disk.sig_sim(disk.t_arr[-1]), 'r--') # analytic result for comparison at the end of the integration\n",
    "\n",
    "plt.title(r\"$t = %.2f \\, \\tau_\\nu$\" %(disk.t_arr[ind]/disk.tvisc)) # the r makes this a raw string\n",
    "\n",
    "plt.xlim(6e-2,100)\n",
    "plt.ylim(1e-4,1e6)"
   ]
  },
  {
   "cell_type": "markdown",
   "id": "285846ab-8ee4-4e9a-b996-dc84b79aacdd",
   "metadata": {},
   "source": [
    "#### The result after using our utility to solve the tri-diagonal matrix for surface denstiy values as a function of radius at fixed small tvisc"
   ]
  },
  {
   "cell_type": "markdown",
   "id": "e62b601f-9178-4ca5-859f-4c0fa5b6adf6",
   "metadata": {},
   "source": [
    "#### The integrated result does not have a steep falloff at large tvisc but i'm not sure why this is or if we should expect such a gradual and small falloff of the surface density at large radius. I should think it would be *way* less dense that far out."
   ]
  },
  {
   "cell_type": "markdown",
   "id": "1c1b992d-7059-4a04-8162-38a0d3e7c4a0",
   "metadata": {},
   "source": [
    "#### Wait i think it's because tvisc is so small?"
   ]
  },
  {
   "cell_type": "code",
   "execution_count": 34,
   "id": "7dc4af02-56cd-452c-88cd-0ebbd3fecfe4",
   "metadata": {},
   "outputs": [
    {
     "name": "stdout",
     "output_type": "stream",
     "text": [
      "0%\n",
      "10%\n",
      "20%\n",
      "30%\n",
      "40%\n",
      "50%\n",
      "60%\n",
      "70%\n",
      "80%\n",
      "90%\n",
      "100%\n",
      "Integration took 43.685 seceonds\n"
     ]
    }
   ],
   "source": [
    "# set up the disk\n",
    "disk = disk_integration()\n",
    "# set the initial condition\n",
    "disk.set_ic('deltafn')\n",
    "# run the simulation\n",
    "disk.evolve_disk()"
   ]
  },
  {
   "cell_type": "code",
   "execution_count": 35,
   "id": "cf426bc6-81cb-4658-8ed8-707d7236ad32",
   "metadata": {},
   "outputs": [
    {
     "data": {
      "text/plain": [
       "(0.0001, 1000000.0)"
      ]
     },
     "execution_count": 35,
     "metadata": {},
     "output_type": "execute_result"
    },
    {
     "data": {
      "image/png": "[encoded data removed]",
      "text/plain": [
       "<Figure size 432x288 with 1 Axes>"
      ]
     },
     "metadata": {
      "needs_background": "light"
     },
     "output_type": "display_data"
    }
   ],
   "source": [
    "ind = 10\n",
    "\n",
    "plt.loglog(disk.rad_arr/AU,disk.sig_arr[0], 'b') # initial disk structure\n",
    "\n",
    "plt.loglog(disk.rad_arr/AU,disk.sig_arr[ind], 'k') # numerical result\n",
    "plt.loglog(disk.rad_arr/AU, disk.sig_sim(disk.t_arr[ind]), 'm--') # analytic result for comparison\n",
    "\n",
    "plt.loglog(disk.rad_arr/AU,disk.sig_arr[-1], color='gray') # numerical result\n",
    "plt.loglog(disk.rad_arr/AU, disk.sig_sim(disk.t_arr[-1]), 'r--') # analytic result for comparison\n",
    "\n",
    "plt.title(r\"$t = %.2f \\, \\tau_\\nu$\" %(disk.t_arr[ind]/disk.tvisc)) # the r makes this a raw string\n",
    "\n",
    "plt.xlim(6e-2,100)\n",
    "plt.ylim(1e-4,1e6)"
   ]
  },
  {
   "cell_type": "markdown",
   "id": "a1d45a96-99bc-4161-bad1-ad4611a4474a",
   "metadata": {
    "tags": []
   },
   "source": [
    "#### Blue is our 'delta function' and these surface density values are normalized"
   ]
  },
  {
   "cell_type": "code",
   "execution_count": 36,
   "id": "256824dc-fdbd-413d-8bf0-a0560e727dc3",
   "metadata": {},
   "outputs": [
    {
     "data": {
      "text/plain": [
       "(0.0001, 1000000.0)"
      ]
     },
     "execution_count": 36,
     "metadata": {},
     "output_type": "execute_result"
    },
    {
     "data": {
      "image/png": "[encoded data removed]",
      "text/plain": [
       "<Figure size 432x288 with 1 Axes>"
      ]
     },
     "metadata": {
      "needs_background": "light"
     },
     "output_type": "display_data"
    }
   ],
   "source": [
    "ind = 500\n",
    "\n",
    "plt.loglog(disk.rad_arr/AU,disk.sig_arr[0], 'b') # initial disk structure\n",
    "\n",
    "plt.loglog(disk.rad_arr/AU,disk.sig_arr[ind], 'k') # numerical result\n",
    "plt.loglog(disk.rad_arr/AU, disk.sig_sim(disk.t_arr[ind]), 'm--') # analytic result for comparison\n",
    "\n",
    "plt.loglog(disk.rad_arr/AU,disk.sig_arr[-1], color='gray') # numerical result\n",
    "plt.loglog(disk.rad_arr/AU, disk.sig_sim(disk.t_arr[-1]), 'r--') # analytic result for comparison\n",
    "\n",
    "plt.title(r\"$t = %.2f \\, \\tau_\\nu$\" %(disk.t_arr[ind]/disk.tvisc)) # the r makes this a raw string\n",
    "\n",
    "plt.xlim(6e-2,100)\n",
    "plt.ylim(1e-4,1e6)"
   ]
  },
  {
   "cell_type": "markdown",
   "id": "bb045495-60f6-4bcd-9318-b45f0a0df175",
   "metadata": {},
   "source": [
    "#### The numerical results match the analytic results very well (at half tvisc)!"
   ]
  },
  {
   "cell_type": "code",
   "execution_count": null,
   "id": "907de024-980c-4cbd-a58c-5ae694d2dfe2",
   "metadata": {},
   "outputs": [],
   "source": []
  }
 ],
 "metadata": {
  "kernelspec": {
   "display_name": "Python 3 (ipykernel)",
   "language": "python",
   "name": "python3"
  },
  "language_info": {
   "codemirror_mode": {
    "name": "ipython",
    "version": 3
   },
   "file_extension": ".py",
   "mimetype": "text/x-python",
   "name": "python",
   "nbconvert_exporter": "python",
   "pygments_lexer": "ipython3",
   "version": "3.9.12"
  }
 },
 "nbformat": 4,
 "nbformat_minor": 5
}
